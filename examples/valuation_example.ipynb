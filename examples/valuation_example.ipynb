{
 "nbformat": 4,
 "nbformat_minor": 2,
 "metadata": {
  "language_info": {
   "name": "python",
   "codemirror_mode": {
    "name": "ipython",
    "version": 3
   },
   "version": "3.7.3-final"
  },
  "orig_nbformat": 2,
  "file_extension": ".py",
  "mimetype": "text/x-python",
  "name": "python",
  "npconvert_exporter": "python",
  "pygments_lexer": "ipython3",
  "version": 3,
  "kernelspec": {
   "name": "python37364bitvenvvenvdac54925085145d685050606e226ef19",
   "display_name": "Python 3.7.3 64-bit ('venv': venv)"
  }
 },
 "cells": [
  {
   "cell_type": "code",
   "execution_count": 14,
   "metadata": {},
   "outputs": [],
   "source": [
    "import datetime\n",
    "import torch\n",
    "from quantitative_analytics.indices import indices, indexfixingrepository\n",
    "from quantitative_analytics.marketdata import marketdata, marketdatarepository\n",
    "from quantitative_analytics.products import products\n",
    "from quantitative_analytics.models import models\n",
    "from quantitative_analytics.calculators import calculators"
   ]
  },
  {
   "cell_type": "code",
   "execution_count": 15,
   "metadata": {},
   "outputs": [],
   "source": [
    "torch.set_printoptions(precision=16)\n",
    "\n",
    "EPSILON = 0.00000001"
   ]
  },
  {
   "cell_type": "markdown",
   "metadata": {},
   "source": [
    "1. Define some indices"
   ]
  },
  {
   "cell_type": "code",
   "execution_count": 16,
   "metadata": {},
   "outputs": [],
   "source": [
    "equity = indices.EquityIndex([], \"SPX\")\n",
    "equity2 = indices.EquityIndex([], \"AAP\")"
   ]
  },
  {
   "cell_type": "markdown",
   "metadata": {},
   "source": [
    "2. Define the option data"
   ]
  },
  {
   "cell_type": "code",
   "execution_count": 17,
   "metadata": {},
   "outputs": [],
   "source": [
    "observationDates = [datetime.date(year=2020, month=11, day=30),\n",
    "                    datetime.date(year=2021, month=6, day=30),\n",
    "                    datetime.date(year=2021, month=12, day=30)]\n",
    "expiry = datetime.date(year=2021, month=12, day=30)\n",
    "\n",
    "option_data = {}\n",
    "option_data['strike'] = torch.tensor(100.0, requires_grad=True)\n",
    "option_data['expiry'] = expiry\n",
    "option_data['index'] = equity\n",
    "\n",
    "# Create a European Option\n",
    "europeanOption = products.EuropeanOptionProduct(option_data)\n",
    "\n",
    "option_data['observationDates'] = observationDates\n",
    "\n",
    "# Create an Asian Option\n",
    "asianOption = products.AsianOptionProduct(option_data)\n",
    "\n",
    "option_data['indices'] = [equity, equity2]\n",
    "asianBasketOption = products.AsianBasketOptionProduct(option_data)"
   ]
  },
  {
   "cell_type": "markdown",
   "metadata": {},
   "source": [
    "3. Define the model"
   ]
  },
  {
   "cell_type": "code",
   "execution_count": 18,
   "metadata": {},
   "outputs": [],
   "source": [
    "modelData = {}\n",
    "\n",
    "modelDate = datetime.date(year=2020, month=12, day=30)\n",
    "model = models.LognormalModel(modelData, modelDate)"
   ]
  },
  {
   "cell_type": "markdown",
   "metadata": {},
   "source": [
    "4. Define fixings "
   ]
  },
  {
   "cell_type": "code",
   "execution_count": 19,
   "metadata": {},
   "outputs": [],
   "source": [
    "indexfixingrepository.indexFixingRepositorySingleton.clear()\n",
    "\n",
    "fixingDate = datetime.date(year=2020, month=11, day=30)\n",
    "spot_fixing = torch.tensor(100.0, requires_grad=True)\n",
    "indexfixingrepository.indexFixingRepositorySingleton.storeFixing(equity, fixingDate, spot_fixing)\n",
    "\n",
    "spot_fixing2 = torch.tensor(100.0, requires_grad=True)\n",
    "indexfixingrepository.indexFixingRepositorySingleton.storeFixing(equity2, fixingDate, spot_fixing2)"
   ]
  },
  {
   "cell_type": "markdown",
   "metadata": {},
   "source": [
    "5. Define market data"
   ]
  },
  {
   "cell_type": "code",
   "execution_count": 20,
   "metadata": {},
   "outputs": [],
   "source": [
    "marketdatarepository.marketDataRepositorySingleton.clear()\n",
    "\n",
    "observationDates = [datetime.date(year=2020, month=11, day=30),\n",
    "                    datetime.date(year=2021, month=6, day=30),\n",
    "                    datetime.date(year=2021, month=12, day=30)]\n",
    "expiry = datetime.date(year=2021, month=12, day=30)\n",
    "\n",
    "forward = torch.tensor([100.0], requires_grad=True)\n",
    "md = marketdata.MarketDataEquitySpotBase(equity, forward)\n",
    "marketdatarepository.marketDataRepositorySingleton.storeMarketData(md)\n",
    "\n",
    "forward2 = torch.tensor([100.0], requires_grad=True)\n",
    "md2 = marketdata.MarketDataEquitySpotBase(equity2, forward2)\n",
    "marketdatarepository.marketDataRepositorySingleton.storeMarketData(md2)\n",
    "\n",
    "volatilityDates = [datetime.date(year=2021, month=6, day=30),\n",
    "                    datetime.date(year=2021, month=12, day=30)]\n",
    "volatilityPoint1 = torch.tensor([0.2], requires_grad=True)\n",
    "volatilityPoint2 = torch.tensor([0.2], requires_grad=True)\n",
    "\n",
    "volatilityValues = [volatilityPoint1, volatilityPoint2]\n",
    "volatilityMarketData = marketdata.BlackVolatilityMarketData(equity, volatilityDates, volatilityValues)\n",
    "marketdatarepository.marketDataRepositorySingleton.storeMarketData(volatilityMarketData)\n",
    "\n",
    "volatilityPoint3 = torch.tensor([0.3], requires_grad=True)\n",
    "volatilityPoint4 = torch.tensor([0.3], requires_grad=True)\n",
    "\n",
    "volatilityValues2 = [volatilityPoint3, volatilityPoint4]\n",
    "volatilityMarketData2 = marketdata.BlackVolatilityMarketData(equity2, volatilityDates, volatilityValues2)\n",
    "marketdatarepository.marketDataRepositorySingleton.storeMarketData(volatilityMarketData2)\n",
    "\n",
    "correlation = torch.tensor([0.1], requires_grad=True)\n",
    "correlationMarketData = marketdata.CorrelationMarketData(equity2, equity, correlation)\n",
    "marketdatarepository.marketDataRepositorySingleton.storeMarketData(correlationMarketData)\n",
    "\n",
    "correlation2 = torch.tensor([0.1], requires_grad=True)\n",
    "correlationMarketData2 = marketdata.CorrelationMarketData(equity, equity2, correlation2)\n",
    "marketdatarepository.marketDataRepositorySingleton.storeMarketData(correlationMarketData2)\n",
    "\n",
    "\n",
    ""
   ]
  },
  {
   "cell_type": "markdown",
   "metadata": {},
   "source": [
    "6. Define the simulation data and run"
   ]
  },
  {
   "cell_type": "code",
   "execution_count": 21,
   "metadata": {},
   "outputs": [
    {
     "output_type": "stream",
     "name": "stdout",
     "text": "SPX\n1\ntensor([100.0324172973632812,   8.0145454406738281], grad_fn=<StackBackward>)\n[tensor([1.0003243684768677], grad_fn=<SumBackward1>), tensor([0.5393523573875427], grad_fn=<SumBackward1>)]\n[tensor([0.], grad_fn=<SumBackward1>), tensor([0.0141420736908913], grad_fn=<SumBackward1>)]\n"
    }
   ],
   "source": [
    "# Run the Monte-Carlo\n",
    "simulationData = {}\n",
    "simulationData['NumberOfSimulations'] = 100000\n",
    "\n",
    "simulationData['LegValues'] = True\n",
    "mc = calculators.MonteCarloSimulator(simulationData, model, europeanOption)\n",
    "npvmc = mc.npv()\n",
    "\n",
    "# Compute first order derivatives\n",
    "x = [forward]\n",
    "\n",
    "dxs = []\n",
    "for it in npvmc:\n",
    "    dx, = torch.autograd.grad(it, x, create_graph=True, retain_graph=True)\n",
    "    dxs.append(dx)\n",
    "\n",
    "ddxs = []\n",
    "for it in dxs:\n",
    "    ddx, = torch.autograd.grad(it, x, create_graph=True)\n",
    "    ddxs.append(ddx)\n",
    "\n",
    "print(npvmc)\n",
    "print(dxs)\n",
    "print(ddxs)"
   ]
  },
  {
   "cell_type": "code",
   "execution_count": null,
   "metadata": {},
   "outputs": [],
   "source": []
  }
 ]
}